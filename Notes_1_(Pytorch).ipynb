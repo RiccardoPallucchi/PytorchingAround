{
  "nbformat": 4,
  "nbformat_minor": 0,
  "metadata": {
    "colab": {
      "name": "Notes 1 (Pytorch).ipynb",
      "provenance": [],
      "collapsed_sections": [],
      "authorship_tag": "ABX9TyNug0bc+eYDa5aEc+hOlQqM",
      "include_colab_link": true
    },
    "kernelspec": {
      "name": "python3",
      "display_name": "Python 3"
    }
  },
  "cells": [
    {
      "cell_type": "markdown",
      "metadata": {
        "id": "view-in-github",
        "colab_type": "text"
      },
      "source": [
        "<a href=\"https://colab.research.google.com/github/RiccardoPallucchi/PytorchingAround/blob/master/Notes_1_(Pytorch).ipynb\" target=\"_parent\"><img src=\"https://colab.research.google.com/assets/colab-badge.svg\" alt=\"Open In Colab\"/></a>"
      ]
    },
    {
      "cell_type": "code",
      "metadata": {
        "id": "P60BOMiU1FIw",
        "colab_type": "code",
        "colab": {
          "base_uri": "https://localhost:8080/",
          "height": 34
        },
        "outputId": "61c6827d-70cd-40b6-db41-403edbbb8814"
      },
      "source": [
        "import torch\n",
        "import numpy as np\n",
        "a=tc.__version__\n",
        "b=np.__version__\n",
        "a,b"
      ],
      "execution_count": 11,
      "outputs": [
        {
          "output_type": "execute_result",
          "data": {
            "text/plain": [
              "('1.4.0', '1.18.2')"
            ]
          },
          "metadata": {
            "tags": []
          },
          "execution_count": 11
        }
      ]
    },
    {
      "cell_type": "code",
      "metadata": {
        "id": "CxajrEo914pY",
        "colab_type": "code",
        "colab": {}
      },
      "source": [
        "#tensors:\n",
        "a1=torch.tensor([[2,4,5],[6,3,7]], dtype=torch.int32)          #note: using 'tensor' I have to specify the values\n",
        "a2=torch.zeros([2,3])                                          #note: using 'zeros', 'ones' or 'rand' I have to specify the dimension of the tensor\n",
        "a3=torch.ones([3,5], dtype=torch.float64)\n",
        "a4=torch.eye(4)                                                #identity matrix\n",
        "a5=torch.rand((2,2))                                           #random numbers, range = [0,1]\n",
        "a6=torch.randint(0,6,(4,5))                                    #random integer numbers, I must specify the range (in this case (0,6) )\n",
        "\n",
        "a7=torch.rand((4,6))\n",
        "a71=torch.ones_like(a7)                                        #create tensor having same shape of another tensor\n",
        "\n",
        "t1=torch.rand([7,2], dtype=torch.float32)\n",
        "n1=t1.numpy()                                                  #conversion torch-numpy\n",
        "\n",
        "n2=np.random.rand(8,4).astype(np.int32)\n",
        "t2=torch.from_numpy(n2)                                        #conversion numpy-torch\n",
        "\n",
        "#properties of a tensor\n",
        "a=torch.rand((5,6), dtype=torch.float64)\n",
        "t,s,d=a.dtype, a.shape, a.device            #'device' tells me where the tensor resides: 'cpu'=RAM, 'cuda'=GPU; I can specify the device in the argument"
      ],
      "execution_count": 0,
      "outputs": []
    },
    {
      "cell_type": "code",
      "metadata": {
        "id": "9Hac6ZfP2dEe",
        "colab_type": "code",
        "colab": {}
      },
      "source": [
        "#rank of a tensor: A scalar has rank 0, 1D-matrices (a vector) has rank 1, 2D-matrices (mxn) has rank 2, 3D-matrices (mxnxk) has rank 3, etc\n",
        "\n",
        "T0=torch.tensor(3, dtype=torch.float32)                       #rank 0 tensor, it's a scalar\n",
        "S=T0.item()                                                   #convert tensor to python base type\n",
        "#print(T0, type(T0), '\\n', S, type(S))\n",
        "\n",
        "T1=torch.tensor([1,2,3], dtype=torch.int32)                   #rank 1 tensor: shape (n,), considered both row or column vector (it can be a scalar also)\n",
        "T1_col=T1.reshape(1,-1)                                       #reshape\n",
        "#print(T1_col, T1, sep='\\n')\n",
        "\n",
        "T2=torch.tensor([[1,2,3], [4,5,6]], dtype=torch.int32)        #rank 2 tensor: shape (n,m), it's a 2D matrix (T2) or a column vector (T2_2)\n",
        "T2_2=torch.tensor([[1],[2],[3]])\n",
        "T2_col=T2.reshape(-1,1)                                       #reshape to get a column vector\n",
        "T2_col1=T2.reshape(1,-1)                                      #reshape to get a row vector\n",
        "#print(T2,T2_col, T2_col1, sep='\\n')\n",
        "\n",
        "T3=torch.rand(3,6,7)                                          #rank 3 tensor: shape (k,m,n), it's a 3D matrix, a collection of k 2D Matrices (dim (m,n))\n",
        "#print(T3)"
      ],
      "execution_count": 0,
      "outputs": []
    },
    {
      "cell_type": "code",
      "metadata": {
        "id": "fzOPdmtRXT2v",
        "colab_type": "code",
        "colab": {}
      },
      "source": [
        "#Transposing in 2 dimensions:\n",
        "ap=torch.ones(5,2)\n",
        "ap[4,-1]=19                                                    #I selected the 5th row (0,1,2,3,4) and the last column\n",
        "pa=ap.transpose(1,0)                                           #two ways to transpose a tensor\n",
        "pa2=torch.einsum('ij->ji', ap)\n",
        "#print(ap,pa,pa2,sep='\\n')\n",
        "\n",
        "#in 3 dimensions:\n",
        "up=torch.ones(2,5,3)\n",
        "up[1,4,2]=42\n",
        "pu=up.transpose(1,2)\n",
        "pu2=torch.einsum('ijk->ikj', up)\n",
        "#print(up, pu, pu2, sep='\\n')"
      ],
      "execution_count": 0,
      "outputs": []
    },
    {
      "cell_type": "code",
      "metadata": {
        "id": "HMHJgCW9lZbT",
        "colab_type": "code",
        "colab": {
          "base_uri": "https://localhost:8080/",
          "height": 34
        },
        "outputId": "dd6df18d-61ae-4cd6-ba4b-b8744abb8355"
      },
      "source": [
        "#reshaping a tensor:\n",
        "help=torch.arange(18)\n",
        "me=torch.arange(18).reshape(6,3)\n",
        "fucking=torch.arange(18).reshape(3,2,3)\n",
        "idiot=torch.arange(18).reshape(9,2)\n",
        "#print(help, me, fucking, idiot, sep='\\n')\n",
        "idiot.reshape(-1,1)                                                  #reshape in a column vector\n",
        "idiot.reshape(1,-1)                                                  #reshape in a row vector"
      ],
      "execution_count": 21,
      "outputs": [
        {
          "output_type": "execute_result",
          "data": {
            "text/plain": [
              "tensor([[ 0,  1,  2,  3,  4,  5,  6,  7,  8,  9, 10, 11, 12, 13, 14, 15, 16, 17]])"
            ]
          },
          "metadata": {
            "tags": []
          },
          "execution_count": 21
        }
      ]
    },
    {
      "cell_type": "code",
      "metadata": {
        "id": "1JQM35WzT6r5",
        "colab_type": "code",
        "colab": {}
      },
      "source": [
        "#concatenation\n",
        "worm1=torch.arange(12).reshape(3,4)\n",
        "worm2=torch.arange(30,42).reshape(3,4)\n",
        "TwoWorms=torch.stack((worm1,worm2),dim=0)                          #stack=unites two tensors on a new dimension (dim=0)\n",
        "BiggerWorm=torch.cat((worm1,worm2), dim=0)                         #cat=unites two tensorson the first dimension (dim=0)\n",
        "#print(TwoWorms, BiggerWorm, sep='\\n')"
      ],
      "execution_count": 0,
      "outputs": []
    },
    {
      "cell_type": "code",
      "metadata": {
        "id": "iqh6tvkABx9a",
        "colab_type": "code",
        "colab": {}
      },
      "source": [
        "#miscellaneous\n",
        "\n",
        "torch.cuda.is_available()                                         #to check if a GPU is available ;(\n",
        "\n",
        "from IPython.display import YouTubeVideo, HTML, display           #to import videos from YouTube\n",
        "display(YouTubeVideo('gGn6ahUYkmY'))\n",
        "\n",
        "try:                                                              #a nicer way to check an error (pay attention to the indentations)\n",
        "  cookies=torch.arange(18).reshape(3,4)\n",
        "except RuntimeError as e:\n",
        "  print(e)\n",
        "\n",
        "'''\n",
        "soup                                                              #to comment more then a row\n",
        "'''"
      ],
      "execution_count": 0,
      "outputs": []
    },
    {
      "cell_type": "code",
      "metadata": {
        "id": "1IhpaaZG-YGG",
        "colab_type": "code",
        "colab": {
          "base_uri": "https://localhost:8080/",
          "height": 68
        },
        "outputId": "92887934-d3d4-4c92-c5f1-a6fdb975e19d"
      },
      "source": [
        "#exercise 1: Matrix 3x3 (2 on diagonal, 1 elsewhere)\n",
        "torch.ones(3,3)+torch.eye(3)"
      ],
      "execution_count": 69,
      "outputs": [
        {
          "output_type": "execute_result",
          "data": {
            "text/plain": [
              "tensor([[2., 1., 1.],\n",
              "        [1., 2., 1.],\n",
              "        [1., 1., 2.]])"
            ]
          },
          "metadata": {
            "tags": []
          },
          "execution_count": 69
        }
      ]
    },
    {
      "cell_type": "code",
      "metadata": {
        "id": "Dj0U8bfaAx4Z",
        "colab_type": "code",
        "colab": {
          "base_uri": "https://localhost:8080/",
          "height": 102
        },
        "outputId": "6875f872-2524-4f27-ebfc-d5cbe0201cc4"
      },
      "source": [
        "#exercise 2: Given a matrix mxn, create another matrix of same shape filled with ones\n",
        "X=torch.rand(5,8)\n",
        "torch.ones_like(X)"
      ],
      "execution_count": 75,
      "outputs": [
        {
          "output_type": "execute_result",
          "data": {
            "text/plain": [
              "tensor([[1., 1., 1., 1., 1., 1., 1., 1.],\n",
              "        [1., 1., 1., 1., 1., 1., 1., 1.],\n",
              "        [1., 1., 1., 1., 1., 1., 1., 1.],\n",
              "        [1., 1., 1., 1., 1., 1., 1., 1.],\n",
              "        [1., 1., 1., 1., 1., 1., 1., 1.]])"
            ]
          },
          "metadata": {
            "tags": []
          },
          "execution_count": 75
        }
      ]
    },
    {
      "cell_type": "code",
      "metadata": {
        "id": "JU9eh9KdKULH",
        "colab_type": "code",
        "colab": {
          "base_uri": "https://localhost:8080/",
          "height": 85
        },
        "outputId": "63a2eedf-a845-425f-f77d-81e8ba3e461b"
      },
      "source": [
        "#exercise 3: Build a 4x4 tensor filled with zeros and the sequence (0,1,2,3) on the diagonal\n",
        "a=torch.zeros([4,4])\n",
        "index=torch.arange(4, dtype=torch.long)                #creates vector with values going from 'start' (0) to 'end' (4) , with 'step'=1\n",
        "a[index,index]=index.to(torch.float)                   # '.to' to switch between types\n",
        "a"
      ],
      "execution_count": 67,
      "outputs": [
        {
          "output_type": "execute_result",
          "data": {
            "text/plain": [
              "tensor([[0., 0., 0., 0.],\n",
              "        [0., 1., 0., 0.],\n",
              "        [0., 0., 2., 0.],\n",
              "        [0., 0., 0., 3.]])"
            ]
          },
          "metadata": {
            "tags": []
          },
          "execution_count": 67
        }
      ]
    },
    {
      "cell_type": "code",
      "metadata": {
        "colab_type": "code",
        "outputId": "455b8d60-6f2e-492d-bc34-53cf3930e133",
        "id": "yErhyTzkcq7W",
        "colab": {
          "base_uri": "https://localhost:8080/",
          "height": 51
        }
      },
      "source": [
        "#exercise 4: from tensor [0 to 9] to tensor [0,2,4,6,8],[1,3,5,7,9] using only reshape and transpose\n",
        "gip=torch.arange(10)\n",
        "pup=gip.reshape(5,2)\n",
        "rap=pup.transpose(0,1)\n",
        "torch.arange(10).reshape(5,2).transpose(0,1)             #all in one\n",
        "#print(gip,pup,rap, sep='\\n')"
      ],
      "execution_count": 0,
      "outputs": [
        {
          "output_type": "execute_result",
          "data": {
            "text/plain": [
              "tensor([[0, 2, 4, 6, 8],\n",
              "        [1, 3, 5, 7, 9]])"
            ]
          },
          "metadata": {
            "tags": []
          },
          "execution_count": 48
        }
      ]
    },
    {
      "cell_type": "code",
      "metadata": {
        "id": "jjEDqfhKcrnZ",
        "colab_type": "code",
        "colab": {
          "base_uri": "https://localhost:8080/",
          "height": 34
        },
        "outputId": "95e4329a-741c-4398-e2e5-f973169f67f9"
      },
      "source": [
        "#exercise 4: from tensor 3x5x8x10 to tensor 10x8x3x5\n",
        "sip=torch.rand((3,5,8,10))\n",
        "sip2=sip.transpose(1,2).transpose(0,1).transpose(3,2).transpose(2,1).transpose(1,0)\n",
        "\n",
        "sip3=torch.einsum('fghi->ihfg', sip)                                    #another way\n",
        "torch.equal(sip2,sip3)\n",
        "#print(sip2.shape)"
      ],
      "execution_count": 61,
      "outputs": [
        {
          "output_type": "execute_result",
          "data": {
            "text/plain": [
              "True"
            ]
          },
          "metadata": {
            "tags": []
          },
          "execution_count": 61
        }
      ]
    }
  ]
}